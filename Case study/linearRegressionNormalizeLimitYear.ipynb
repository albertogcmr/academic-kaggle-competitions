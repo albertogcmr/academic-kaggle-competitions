{
 "cells": [
  {
   "cell_type": "code",
   "execution_count": 1,
   "metadata": {},
   "outputs": [],
   "source": [
    "import warnings\n",
    "warnings.filterwarnings('ignore')\n",
    "import pandas as pd\n",
    "from clean_data import clean_data, prepare_data\n",
    "from sklearn.decomposition import PCA\n",
    "from sklearn.model_selection import train_test_split\n",
    "from sklearn.linear_model import LinearRegression\n",
    "from sklearn.metrics import mean_squared_error\n",
    "from sklearn.preprocessing import normalize"
   ]
  },
  {
   "cell_type": "code",
   "execution_count": 14,
   "metadata": {},
   "outputs": [],
   "source": [
    "# Read files\n",
    "train = pd.read_csv('../cars-competition/data/cars_train.csv', index_col='Id')\n",
    "submission = pd.read_csv('../cars-competition/data/cars_test.csv', index_col='Id')"
   ]
  },
  {
   "cell_type": "code",
   "execution_count": 15,
   "metadata": {},
   "outputs": [
    {
     "name": "stdout",
     "output_type": "stream",
     "text": [
      "Cleaning cylinders...\n",
      "Cleaning condition...\n",
      "Cleaning odometer...\n",
      "Cleaning drive...\n",
      "Cleaning size...\n",
      "Cleaning manufacturer...\n",
      "Cleaning fuel...\n",
      "Cleaning transmission...\n",
      "Cleaning title status...\n",
      "Data cleaning complete!\n",
      "Cleaning cylinders...\n",
      "Cleaning condition...\n",
      "Cleaning odometer...\n",
      "Cleaning drive...\n",
      "Cleaning size...\n",
      "Cleaning manufacturer...\n",
      "Cleaning fuel...\n",
      "Cleaning transmission...\n",
      "Cleaning title status...\n",
      "Data cleaning complete!\n"
     ]
    }
   ],
   "source": [
    "# Clean Data\n",
    "train = clean_data(train)\n",
    "train = train[train['year']>=1930]\n",
    "submission = clean_data(submission)"
   ]
  },
  {
   "cell_type": "code",
   "execution_count": 16,
   "metadata": {},
   "outputs": [],
   "source": [
    "# Prepare Data\n",
    "# columns = ['year','manufacturer','condition','cylinders','fuel','odometer','title_status','transmission','drive','size']\n",
    "columns = ['year','manufacturer','condition','cylinders','odometer','title_status','transmission','size','lat','long']\n",
    "X, y = prepare_data(train,columns,typ='train')\n",
    "X_sub, _ = prepare_data(submission,columns,typ='test')"
   ]
  },
  {
   "cell_type": "code",
   "execution_count": 17,
   "metadata": {},
   "outputs": [],
   "source": [
    "# Normalize columns\n",
    "norm = ['year','condition','cylinders','odometer','lat','long']\n",
    "X[norm] = normalize(X[norm])\n",
    "X_sub[norm] = normalize(X_sub[norm])"
   ]
  },
  {
   "cell_type": "code",
   "execution_count": 18,
   "metadata": {},
   "outputs": [],
   "source": [
    "# Feature reduction PCA\n",
    "n_components = [5,10,15,20,25,30,35,40]\n",
    "#n_components = [5,10,15]\n",
    "for n in n_components:\n",
    "    exec('pca{0} = PCA(n_components = {0})'.format(n))\n",
    "    exec('X_new{0} = pca{0}.fit_transform(X)'.format(n))"
   ]
  },
  {
   "cell_type": "code",
   "execution_count": 19,
   "metadata": {},
   "outputs": [],
   "source": [
    "# Split Train and Test\n",
    "\n",
    "for n in n_components:\n",
    "    exec('X_train{0}, X_test{0}, y_train{0}, y_test{0} = train_test_split(X_new{0},y,test_size=0.2,random_state=200)'.format(n))"
   ]
  },
  {
   "cell_type": "code",
   "execution_count": 20,
   "metadata": {},
   "outputs": [],
   "source": [
    "# Linear Regression\n",
    "for n in n_components:\n",
    "    exec('lin_reg{0} = LinearRegression()'.format(n))\n",
    "    exec('lin_reg{0}.fit(X_train{0},y_train{0})'.format(n))"
   ]
  },
  {
   "cell_type": "code",
   "execution_count": 21,
   "metadata": {},
   "outputs": [],
   "source": [
    "# Predict\n",
    "for n in n_components:\n",
    "    exec('y_pred{0} = lin_reg{0}.predict(X_test{0})'.format(n))"
   ]
  },
  {
   "cell_type": "code",
   "execution_count": 22,
   "metadata": {},
   "outputs": [],
   "source": [
    "# Check error\n",
    "error = {}\n",
    "for n in n_components:\n",
    "    exec('error[{0}] = mean_squared_error(y_test{0}, y_pred{0})'.format(n))"
   ]
  },
  {
   "cell_type": "code",
   "execution_count": 23,
   "metadata": {},
   "outputs": [
    {
     "data": {
      "text/plain": [
       "{5: 64844872333188.97,\n",
       " 10: 64844978964643.18,\n",
       " 15: 64842671667769.17,\n",
       " 20: 64842164645063.96,\n",
       " 25: 64843875373316.91,\n",
       " 30: 64843845380356.0,\n",
       " 35: 64844429677195.24,\n",
       " 40: 64844570644491.945}"
      ]
     },
     "execution_count": 23,
     "metadata": {},
     "output_type": "execute_result"
    }
   ],
   "source": [
    "# Check for optimal feature number for PCA: 25\n",
    "error"
   ]
  },
  {
   "cell_type": "code",
   "execution_count": null,
   "metadata": {},
   "outputs": [],
   "source": [
    "# 153496416809193.97\n",
    "# 64842164645063.96"
   ]
  },
  {
   "cell_type": "code",
   "execution_count": 27,
   "metadata": {},
   "outputs": [
    {
     "data": {
      "text/plain": [
       "LinearRegression(copy_X=True, fit_intercept=True, n_jobs=None, normalize=False)"
      ]
     },
     "execution_count": 27,
     "metadata": {},
     "output_type": "execute_result"
    }
   ],
   "source": [
    "# Train Model with all data\n",
    "lin_reg_sub = LinearRegression()\n",
    "lin_reg_sub.fit(X_new20,y)"
   ]
  },
  {
   "cell_type": "code",
   "execution_count": 28,
   "metadata": {},
   "outputs": [
    {
     "data": {
      "text/plain": [
       "array([ 47514.14960155, 153585.85714717,  12847.83604174, ...,\n",
       "       144273.50745922,  52179.91960933, 148281.04176366])"
      ]
     },
     "execution_count": 28,
     "metadata": {},
     "output_type": "execute_result"
    }
   ],
   "source": [
    "# Try optimal Linear Regression for submission\n",
    "# PCA\n",
    "X_sub20 = pca20.transform(X_sub)\n",
    "# Predict\n",
    "y_sub20 = lin_reg_sub.predict(X_sub20)\n",
    "y_sub20"
   ]
  },
  {
   "cell_type": "code",
   "execution_count": 29,
   "metadata": {},
   "outputs": [
    {
     "data": {
      "text/plain": [
       "array([ 47514.14960155, 153585.85714717,  12847.83604174, ...,\n",
       "       144273.50745922,  52179.91960933, 148281.04176366])"
      ]
     },
     "execution_count": 29,
     "metadata": {},
     "output_type": "execute_result"
    }
   ],
   "source": [
    "# Getting absolute values\n",
    "y_sub20 = abs(y_sub20)\n",
    "y_sub20"
   ]
  },
  {
   "cell_type": "code",
   "execution_count": 30,
   "metadata": {},
   "outputs": [],
   "source": [
    "# Prepare for submission\n",
    "sub20 = submission\n",
    "sub20['price'] = y_sub20\n",
    "sub20 = sub20['price'] \n",
    "sub20.to_csv('../cars-competition/data/sub20_ln_yeargte1930.csv', header=True, index=True)"
   ]
  },
  {
   "cell_type": "code",
   "execution_count": null,
   "metadata": {},
   "outputs": [],
   "source": []
  }
 ],
 "metadata": {
  "kernelspec": {
   "display_name": "Python 3",
   "language": "python",
   "name": "python3"
  },
  "language_info": {
   "codemirror_mode": {
    "name": "ipython",
    "version": 3
   },
   "file_extension": ".py",
   "mimetype": "text/x-python",
   "name": "python",
   "nbconvert_exporter": "python",
   "pygments_lexer": "ipython3",
   "version": "3.7.3"
  }
 },
 "nbformat": 4,
 "nbformat_minor": 4
}
