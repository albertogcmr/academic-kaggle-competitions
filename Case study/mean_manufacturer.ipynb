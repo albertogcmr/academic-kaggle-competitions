{
 "cells": [
  {
   "cell_type": "code",
   "execution_count": 2,
   "metadata": {},
   "outputs": [],
   "source": [
    "import warnings\n",
    "warnings.filterwarnings('ignore')\n",
    "import pandas as pd\n",
    "from clean_data import clean_data, prepare_data"
   ]
  },
  {
   "cell_type": "code",
   "execution_count": 3,
   "metadata": {},
   "outputs": [],
   "source": [
    "# Read files\n",
    "train = pd.read_csv('../cars-competition/data/cars_train.csv', index_col='Id')\n",
    "submission = pd.read_csv('../cars-competition/data/cars_test.csv', index_col='Id')"
   ]
  },
  {
   "cell_type": "code",
   "execution_count": 4,
   "metadata": {},
   "outputs": [
    {
     "name": "stdout",
     "output_type": "stream",
     "text": [
      "Cleaning cylinders...\n",
      "Cleaning condition...\n",
      "Cleaning odometer...\n",
      "Cleaning drive...\n",
      "Cleaning size...\n",
      "Cleaning manufacturer...\n",
      "Cleaning fuel...\n",
      "Cleaning transmission...\n",
      "Cleaning title status...\n",
      "Data cleaning complete!\n",
      "Cleaning cylinders...\n",
      "Cleaning condition...\n",
      "Cleaning odometer...\n",
      "Cleaning drive...\n",
      "Cleaning size...\n",
      "Cleaning manufacturer...\n",
      "Cleaning fuel...\n",
      "Cleaning transmission...\n",
      "Cleaning title status...\n",
      "Data cleaning complete!\n"
     ]
    }
   ],
   "source": [
    "# Clean Data\n",
    "train = clean_data(train)\n",
    "submission = clean_data(submission)"
   ]
  },
  {
   "cell_type": "code",
   "execution_count": 5,
   "metadata": {},
   "outputs": [],
   "source": [
    "X = train.groupby(by='manufacturer').mean()"
   ]
  },
  {
   "cell_type": "code",
   "execution_count": 9,
   "metadata": {},
   "outputs": [],
   "source": [
    "manufacturer = {}\n",
    "for i,car in X.iterrows():\n",
    "    manufacturer[i] = car['price']"
   ]
  },
  {
   "cell_type": "code",
   "execution_count": 10,
   "metadata": {},
   "outputs": [
    {
     "data": {
      "text/plain": [
       "{'acura': 8983.533414584603,\n",
       " 'alfa-romeo': 14113.79365079365,\n",
       " 'aston-martin': 47356.37037037037,\n",
       " 'audi': 12341.569921491659,\n",
       " 'bmw': 127230.6227195946,\n",
       " 'buick': 7532.347860791826,\n",
       " 'cadillac': 16368.854857646023,\n",
       " 'chevrolet': 155080.55510238407,\n",
       " 'chrysler': 150230.62912912914,\n",
       " 'datsun': 6342.415094339623,\n",
       " 'dodge': 170835.23706626883,\n",
       " 'ferrari': 102998.5,\n",
       " 'fiat': 9120.601785714285,\n",
       " 'ford': 68027.38852539001,\n",
       " 'gmc': 266211.8687613607,\n",
       " 'harley-davidson': 10787.930693069307,\n",
       " 'honda': 20650.486312792353,\n",
       " 'hyundai': 9000.883569935073,\n",
       " 'infiniti': 11336.876688197299,\n",
       " 'jaguar': 9664.787037037036,\n",
       " 'jeep': 20147.034363922805,\n",
       " 'kia': 9311.289307251067,\n",
       " 'land rover': 19586.914248871697,\n",
       " 'lexus': 11758.308346912909,\n",
       " 'lincoln': 40074.84548269068,\n",
       " 'mazda': 7226.0467084639495,\n",
       " 'mercedes-benz': 273334.94077102805,\n",
       " 'mercury': 4340.808449695668,\n",
       " 'mini': 8895.475071633238,\n",
       " 'mitsubishi': 247849.5728353141,\n",
       " 'morgan': 16850.25,\n",
       " 'nissan': 27586.232793614596,\n",
       " 'pontiac': 5324.36139021578,\n",
       " 'porche': 13251.07142857143,\n",
       " 'ram': 98952.12974744554,\n",
       " 'saturn': 3500.652558676414,\n",
       " 'subaru': 10509.28620817385,\n",
       " 'toyota': 53886.24988966648,\n",
       " 'unknown': 122081.64793344069,\n",
       " 'volkswagen': 115335.79744754906,\n",
       " 'volvo': 9174.35974590438}"
      ]
     },
     "execution_count": 10,
     "metadata": {},
     "output_type": "execute_result"
    }
   ],
   "source": [
    "manufacturer"
   ]
  },
  {
   "cell_type": "code",
   "execution_count": 13,
   "metadata": {},
   "outputs": [],
   "source": [
    "y_sub30 = []\n",
    "for i,car in submission.iterrows():\n",
    "    y_sub30.append(manufacturer[car['manufacturer']])"
   ]
  },
  {
   "cell_type": "code",
   "execution_count": 15,
   "metadata": {},
   "outputs": [],
   "source": [
    "# Prepare for submission\n",
    "sub30 = submission\n",
    "sub30['price'] = y_sub30\n",
    "sub30 = sub30['price'] \n",
    "sub30.to_csv('../cars-competition/data/meanbymanufacturer.csv', header=True, index=True)"
   ]
  },
  {
   "cell_type": "code",
   "execution_count": null,
   "metadata": {},
   "outputs": [],
   "source": []
  }
 ],
 "metadata": {
  "kernelspec": {
   "display_name": "Python 3",
   "language": "python",
   "name": "python3"
  },
  "language_info": {
   "codemirror_mode": {
    "name": "ipython",
    "version": 3
   },
   "file_extension": ".py",
   "mimetype": "text/x-python",
   "name": "python",
   "nbconvert_exporter": "python",
   "pygments_lexer": "ipython3",
   "version": "3.7.4"
  }
 },
 "nbformat": 4,
 "nbformat_minor": 4
}
