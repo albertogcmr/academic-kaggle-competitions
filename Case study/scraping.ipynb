{
 "cells": [
  {
   "cell_type": "code",
   "execution_count": 3,
   "metadata": {},
   "outputs": [],
   "source": [
    "import pandas as pd\n",
    "import requests\n",
    "from bs4 import BeautifulSoup"
   ]
  },
  {
   "cell_type": "code",
   "execution_count": 5,
   "metadata": {},
   "outputs": [],
   "source": [
    "url = 'https://www.cars.com/research/{}/'\n",
    "submission = pd.read_csv('../cars-competition/data/cars_test.csv', index_col='Id')"
   ]
  },
  {
   "cell_type": "code",
   "execution_count": 12,
   "metadata": {},
   "outputs": [
    {
     "name": "stdout",
     "output_type": "stream",
     "text": [
      "(974298, city                      duluth\n",
      "year                        2006\n",
      "manufacturer                ford\n",
      "make            f-250 super duty\n",
      "condition                   good\n",
      "cylinders            8 cylinders\n",
      "fuel                         gas\n",
      "odometer                  154400\n",
      "title_status               clean\n",
      "transmission           automatic\n",
      "drive                        4wd\n",
      "size                         NaN\n",
      "type                      pickup\n",
      "paint_color                white\n",
      "lat                      47.7465\n",
      "long                    -90.3577\n",
      "county_fips                27031\n",
      "county_name                 Cook\n",
      "state_fips                    27\n",
      "state_code                    MN\n",
      "state_name             Minnesota\n",
      "weather                       43\n",
      "Name: 974298, dtype: object)\n"
     ]
    }
   ],
   "source": [
    "for car in submission.iterrows():\n",
    "    print(car)\n",
    "    break"
   ]
  }
 ],
 "metadata": {
  "kernelspec": {
   "display_name": "Python 3",
   "language": "python",
   "name": "python3"
  },
  "language_info": {
   "codemirror_mode": {
    "name": "ipython",
    "version": 3
   },
   "file_extension": ".py",
   "mimetype": "text/x-python",
   "name": "python",
   "nbconvert_exporter": "python",
   "pygments_lexer": "ipython3",
   "version": "3.7.4"
  }
 },
 "nbformat": 4,
 "nbformat_minor": 4
}
