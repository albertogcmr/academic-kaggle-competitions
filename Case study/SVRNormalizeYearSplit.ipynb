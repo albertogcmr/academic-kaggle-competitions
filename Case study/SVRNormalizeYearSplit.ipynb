{
 "cells": [
  {
   "cell_type": "code",
   "execution_count": 1,
   "metadata": {},
   "outputs": [],
   "source": [
    "import warnings\n",
    "warnings.filterwarnings('ignore')\n",
    "import pandas as pd\n",
    "import numpy as np\n",
    "from clean_data import clean_data, prepare_data\n",
    "from sklearn.decomposition import PCA\n",
    "from sklearn.model_selection import train_test_split\n",
    "from sklearn.svm import SVR\n",
    "from sklearn.metrics import mean_squared_error\n",
    "from sklearn.preprocessing import normalize"
   ]
  },
  {
   "cell_type": "code",
   "execution_count": 2,
   "metadata": {},
   "outputs": [],
   "source": [
    "# Read files\n",
    "train = pd.read_csv('../cars-competition/data/cars_train.csv', index_col='Id')\n",
    "submission = pd.read_csv('../cars-competition/data/cars_test.csv', index_col='Id')"
   ]
  },
  {
   "cell_type": "code",
   "execution_count": 3,
   "metadata": {},
   "outputs": [
    {
     "name": "stdout",
     "output_type": "stream",
     "text": [
      "Cleaning cylinders...\n",
      "Cleaning condition...\n",
      "Cleaning odometer...\n",
      "Cleaning drive...\n",
      "Cleaning size...\n",
      "Cleaning manufacturer...\n",
      "Cleaning fuel...\n",
      "Cleaning transmission...\n",
      "Cleaning title status...\n",
      "Data cleaning complete!\n",
      "Cleaning cylinders...\n",
      "Cleaning condition...\n",
      "Cleaning odometer...\n",
      "Cleaning drive...\n",
      "Cleaning size...\n",
      "Cleaning manufacturer...\n",
      "Cleaning fuel...\n",
      "Cleaning transmission...\n",
      "Cleaning title status...\n",
      "Data cleaning complete!\n"
     ]
    }
   ],
   "source": [
    "# Clean Data\n",
    "train = clean_data(train)\n",
    "submission = clean_data(submission)"
   ]
  },
  {
   "cell_type": "code",
   "execution_count": 4,
   "metadata": {},
   "outputs": [
    {
     "name": "stdout",
     "output_type": "stream",
     "text": [
      "Preparing data...\n",
      "Data preparation complete!\n",
      "Preparing data...\n",
      "Data preparation complete!\n"
     ]
    }
   ],
   "source": [
    "# Prepare Data\n",
    "# columns = ['year','manufacturer','condition','cylinders','fuel','odometer','title_status','transmission','drive','size']\n",
    "columns = ['year','manufacturer','condition','cylinders','odometer','title_status','transmission','size','lat','long']\n",
    "X, y = prepare_data(train,columns,typ='train')\n",
    "X_sub, _ = prepare_data(submission,columns,typ='test')"
   ]
  },
  {
   "cell_type": "code",
   "execution_count": 5,
   "metadata": {},
   "outputs": [],
   "source": [
    "# Split data by year\n",
    "def yearSplit(X,y=pd.DataFrame(None)):\n",
    "    decade = {i:(i*10+1900,i*10+1909) for i in range(12)}\n",
    "    y_decade = {}\n",
    "    for i in decade.keys():\n",
    "        print('Spliting data by decade: {}'.format(decade[i]))\n",
    "        dec = (X['year']>=decade[i][0]) & (X['year']<=decade[i][1])\n",
    "        decade[i] = X[dec]\n",
    "        if any(y != None):\n",
    "            y_decade[i] = y[dec]\n",
    "    return decade, y_decade"
   ]
  },
  {
   "cell_type": "code",
   "execution_count": 6,
   "metadata": {},
   "outputs": [
    {
     "name": "stdout",
     "output_type": "stream",
     "text": [
      "Spliting Train\n",
      "Spliting data by decade: (1900, 1909)\n",
      "Spliting data by decade: (1910, 1919)\n",
      "Spliting data by decade: (1920, 1929)\n",
      "Spliting data by decade: (1930, 1939)\n",
      "Spliting data by decade: (1940, 1949)\n",
      "Spliting data by decade: (1950, 1959)\n",
      "Spliting data by decade: (1960, 1969)\n",
      "Spliting data by decade: (1970, 1979)\n",
      "Spliting data by decade: (1980, 1989)\n",
      "Spliting data by decade: (1990, 1999)\n",
      "Spliting data by decade: (2000, 2009)\n",
      "Spliting data by decade: (2010, 2019)\n",
      "Spliting Test\n",
      "Spliting data by decade: (1900, 1909)\n",
      "Spliting data by decade: (1910, 1919)\n",
      "Spliting data by decade: (1920, 1929)\n",
      "Spliting data by decade: (1930, 1939)\n",
      "Spliting data by decade: (1940, 1949)\n",
      "Spliting data by decade: (1950, 1959)\n",
      "Spliting data by decade: (1960, 1969)\n",
      "Spliting data by decade: (1970, 1979)\n",
      "Spliting data by decade: (1980, 1989)\n",
      "Spliting data by decade: (1990, 1999)\n",
      "Spliting data by decade: (2000, 2009)\n",
      "Spliting data by decade: (2010, 2019)\n"
     ]
    }
   ],
   "source": [
    "# Split data by year\n",
    "print('Spliting Train')\n",
    "X_dec,y_dec = yearSplit(X,y)\n",
    "print('Spliting Test')\n",
    "X_sub_dec,_ = yearSplit(X_sub)"
   ]
  },
  {
   "cell_type": "code",
   "execution_count": 7,
   "metadata": {},
   "outputs": [],
   "source": [
    "# Normalize columns\n",
    "norm = ['year','condition','cylinders','odometer','lat','long']\n",
    "for i, X in X_dec.items():\n",
    "    X[norm] = normalize(X[norm])\n",
    "for i, X_sub in X_sub_dec.items():\n",
    "    X_sub[norm] = normalize(X_sub[norm])"
   ]
  },
  {
   "cell_type": "code",
   "execution_count": 8,
   "metadata": {},
   "outputs": [],
   "source": [
    "# Feature reduction PCA\n",
    "n_components = [5,10,15,20,25,30,35,40]\n",
    "#n_components = [5,10,15]\n",
    "X_new_dec = {}\n",
    "pca = {}\n",
    "for i, X in X_dec.items():\n",
    "    new = {}\n",
    "    pca_n = {}\n",
    "    for n in n_components:\n",
    "        try:\n",
    "            pca_n[n] = PCA(n_components = n)\n",
    "            X_new = pca_n[n].fit_transform(X)\n",
    "        except:\n",
    "            pass\n",
    "        new[n] = X_new\n",
    "    X_new_dec[i] = new\n",
    "    pca[i] = pca_n"
   ]
  },
  {
   "cell_type": "code",
   "execution_count": 9,
   "metadata": {},
   "outputs": [],
   "source": [
    "# Split Train and Test\n",
    "train_test_dec = {}\n",
    "for i, dic in X_new_dec.items():\n",
    "    train_test_n = {}\n",
    "    for j, X_new in dic.items():\n",
    "        X_train, X_test, y_train, y_test = train_test_split(X_new,y_dec[i],test_size=0.2,random_state=200)\n",
    "        train_test_n[j] = [X_train, X_test, y_train, y_test]\n",
    "    train_test_dec[i] = train_test_n"
   ]
  },
  {
   "cell_type": "code",
   "execution_count": null,
   "metadata": {},
   "outputs": [],
   "source": [
    "# SVR\n",
    "sv_reg_dec = {}\n",
    "for i, dic in train_test_dec.items():\n",
    "    sv_reg_n = {}\n",
    "    for j, [X_train, X_test, y_train, y_test] in dic.items():\n",
    "        sv_reg = SVR(verbose=True)\n",
    "        sv_reg_n[j] = sv_reg.fit(X_train,y_train)\n",
    "    sv_reg_dec[i] = sv_reg_n"
   ]
  },
  {
   "cell_type": "code",
   "execution_count": null,
   "metadata": {},
   "outputs": [],
   "source": [
    "# Predict\n",
    "y_pred_dec = {}\n",
    "for i, dic in train_test_dec.items():\n",
    "    y_pred_n = {}\n",
    "    for j, [X_train, X_test, y_train, y_test] in dic.items():\n",
    "        y_pred_n[j] = sv_reg_dec[i][j].predict(train_test_dec[i][j][1])\n",
    "    y_pred_dec[i]=y_pred_n"
   ]
  },
  {
   "cell_type": "code",
   "execution_count": null,
   "metadata": {},
   "outputs": [],
   "source": [
    "# Check error\n",
    "error = {}\n",
    "for i, dic in train_test_dec.items():\n",
    "    err_n = {}\n",
    "    for j, [X_train, X_test, y_train, y_test] in dic.items():\n",
    "        err_n[j] = mean_squared_error(y_test, y_pred_dec[i][j])\n",
    "    error[i]=err_n"
   ]
  },
  {
   "cell_type": "code",
   "execution_count": null,
   "metadata": {},
   "outputs": [],
   "source": [
    "# Check for optimal feature number for PCA\n",
    "pca_n = {i:sorted([x for x in dic.items()],key=lambda x: x[1])[0][0] for i,dic in error.items()}\n",
    "pca_n"
   ]
  },
  {
   "cell_type": "code",
   "execution_count": null,
   "metadata": {},
   "outputs": [],
   "source": [
    "# Try optimal Linear Regression for submission\n",
    "y_sub = {}\n",
    "for i, df in X_sub_dec.items():\n",
    "    x = pca[i][pca_n[i]].transform(df)\n",
    "    y_sub[i] = sv_reg_dec[i][pca_n[i]].predict(x)"
   ]
  },
  {
   "cell_type": "code",
   "execution_count": null,
   "metadata": {},
   "outputs": [],
   "source": [
    "for i, y in y_sub.items():\n",
    "    y_sub[i] = abs(y)"
   ]
  },
  {
   "cell_type": "code",
   "execution_count": null,
   "metadata": {},
   "outputs": [],
   "source": [
    "y_sub = np.concatenate(list(y_sub.values()))"
   ]
  },
  {
   "cell_type": "code",
   "execution_count": null,
   "metadata": {},
   "outputs": [],
   "source": [
    "y_sub"
   ]
  },
  {
   "cell_type": "code",
   "execution_count": null,
   "metadata": {},
   "outputs": [],
   "source": [
    "# Prepare for submission\n",
    "sub30 = submission\n",
    "sub30['price'] = y_sub/100\n",
    "sub30 = sub30['price']\n",
    "sub30.to_csv('../cars-competition/data/sub_svr_mixPCA_byDecade_hundreth', header=True, index=True)"
   ]
  },
  {
   "cell_type": "code",
   "execution_count": null,
   "metadata": {},
   "outputs": [],
   "source": []
  }
 ],
 "metadata": {
  "kernelspec": {
   "display_name": "Python 3",
   "language": "python",
   "name": "python3"
  },
  "language_info": {
   "codemirror_mode": {
    "name": "ipython",
    "version": 3
   },
   "file_extension": ".py",
   "mimetype": "text/x-python",
   "name": "python",
   "nbconvert_exporter": "python",
   "pygments_lexer": "ipython3",
   "version": "3.7.4"
  }
 },
 "nbformat": 4,
 "nbformat_minor": 4
}
