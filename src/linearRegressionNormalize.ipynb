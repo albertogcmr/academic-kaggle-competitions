{
 "cells": [
  {
   "cell_type": "code",
   "execution_count": 21,
   "metadata": {},
   "outputs": [],
   "source": [
    "import warnings\n",
    "warnings.filterwarnings('ignore')\n",
    "import pandas as pd\n",
    "from clean_data import clean_data, prepare_data\n",
    "from sklearn.decomposition import PCA\n",
    "from sklearn.model_selection import train_test_split\n",
    "from sklearn.linear_model import LinearRegression\n",
    "from sklearn.metrics import mean_squared_error\n",
    "from sklearn.preprocessing import normalize"
   ]
  },
  {
   "cell_type": "code",
   "execution_count": 2,
   "metadata": {},
   "outputs": [],
   "source": [
    "# Read files\n",
    "train = pd.read_csv('../cars-competition/data/cars_train.csv', index_col='Id')\n",
    "submission = pd.read_csv('../cars-competition/data/cars_test.csv', index_col='Id')"
   ]
  },
  {
   "cell_type": "code",
   "execution_count": 3,
   "metadata": {},
   "outputs": [
    {
     "name": "stdout",
     "output_type": "stream",
     "text": [
      "Cleaning cylinders...\n",
      "Cleaning condition...\n",
      "Cleaning odometer...\n",
      "Cleaning drive...\n",
      "Cleaning size...\n",
      "Cleaning manufacturer...\n",
      "Cleaning fuel...\n",
      "Cleaning transmission...\n",
      "Cleaning title status...\n",
      "Data cleaning complete!\n",
      "Cleaning cylinders...\n",
      "Cleaning condition...\n",
      "Cleaning odometer...\n",
      "Cleaning drive...\n",
      "Cleaning size...\n",
      "Cleaning manufacturer...\n",
      "Cleaning fuel...\n",
      "Cleaning transmission...\n",
      "Cleaning title status...\n",
      "Data cleaning complete!\n"
     ]
    }
   ],
   "source": [
    "# Clean Data\n",
    "train = clean_data(train)\n",
    "submission = clean_data(submission)"
   ]
  },
  {
   "cell_type": "code",
   "execution_count": 225,
   "metadata": {},
   "outputs": [],
   "source": [
    "# Prepare Data\n",
    "# columns = ['year','manufacturer','condition','cylinders','fuel','odometer','title_status','transmission','drive','size']\n",
    "columns = ['year','manufacturer','condition','cylinders','odometer','title_status','transmission','size','lat','long']\n",
    "X, y = prepare_data(train,columns,typ='train')\n",
    "X_sub, _ = prepare_data(submission,columns,typ='test')"
   ]
  },
  {
   "cell_type": "code",
   "execution_count": 226,
   "metadata": {},
   "outputs": [],
   "source": [
    "# Normalize columns\n",
    "norm = ['year','condition','cylinders','odometer','lat','long']\n",
    "X[norm] = normalize(X[norm])\n",
    "X_sub[norm] = normalize(X_sub[norm])"
   ]
  },
  {
   "cell_type": "code",
   "execution_count": 227,
   "metadata": {},
   "outputs": [],
   "source": [
    "# Feature reduction PCA\n",
    "n_components = [5,10,15,20,25,30,35,40]\n",
    "#n_components = [5,10,15]\n",
    "for n in n_components:\n",
    "    exec('pca{0} = PCA(n_components = {0})'.format(n))\n",
    "    exec('X_new{0} = pca{0}.fit_transform(X)'.format(n))"
   ]
  },
  {
   "cell_type": "code",
   "execution_count": 228,
   "metadata": {},
   "outputs": [],
   "source": [
    "# Split Train and Test\n",
    "\n",
    "for n in n_components:\n",
    "    exec('X_train{0}, X_test{0}, y_train{0}, y_test{0} = train_test_split(X_new{0},y,test_size=0.2,random_state=200)'.format(n))"
   ]
  },
  {
   "cell_type": "code",
   "execution_count": 229,
   "metadata": {},
   "outputs": [],
   "source": [
    "# Linear Regression\n",
    "for n in n_components:\n",
    "    exec('lin_reg{0} = LinearRegression()'.format(n))\n",
    "    exec('lin_reg{0}.fit(X_train{0},y_train{0})'.format(n))"
   ]
  },
  {
   "cell_type": "code",
   "execution_count": 230,
   "metadata": {},
   "outputs": [],
   "source": [
    "# Predict\n",
    "for n in n_components:\n",
    "    exec('y_pred{0} = lin_reg{0}.predict(X_test{0})'.format(n))"
   ]
  },
  {
   "cell_type": "code",
   "execution_count": 231,
   "metadata": {},
   "outputs": [],
   "source": [
    "# Check error\n",
    "error = {}\n",
    "for n in n_components:\n",
    "    exec('error[{0}] = mean_squared_error(y_test{0}, y_pred{0})'.format(n))"
   ]
  },
  {
   "cell_type": "code",
   "execution_count": 232,
   "metadata": {},
   "outputs": [
    {
     "data": {
      "text/plain": [
       "{5: 69546349771483.164,\n",
       " 10: 69546149713189.8,\n",
       " 15: 69546330484429.34,\n",
       " 20: 69544599494394.445,\n",
       " 25: 69545433686494.29,\n",
       " 30: 69545392093740.62,\n",
       " 35: 69546140649449.71,\n",
       " 40: 69546279029515.26}"
      ]
     },
     "execution_count": 232,
     "metadata": {},
     "output_type": "execute_result"
    }
   ],
   "source": [
    "# Check for optimal feature number for PCA: 25\n",
    "error"
   ]
  },
  {
   "cell_type": "code",
   "execution_count": null,
   "metadata": {},
   "outputs": [],
   "source": [
    "# 32605224719649.1 30-bsf-2\n",
    "# 69543350910505.22"
   ]
  },
  {
   "cell_type": "code",
   "execution_count": 152,
   "metadata": {},
   "outputs": [
    {
     "data": {
      "text/plain": [
       "array([ 71625.29995414, 185576.2054675 ,  16293.36125663, ...,\n",
       "       118887.90367737,  59090.0964403 , 157017.83206255])"
      ]
     },
     "execution_count": 152,
     "metadata": {},
     "output_type": "execute_result"
    }
   ],
   "source": [
    "# Try optimal Linear Regression for submission\n",
    "# PCA\n",
    "X_sub30 = pca30.transform(X_sub)\n",
    "# Predict\n",
    "y_sub30 = lin_reg30.predict(X_sub30)\n",
    "y_sub30"
   ]
  },
  {
   "cell_type": "code",
   "execution_count": 153,
   "metadata": {},
   "outputs": [
    {
     "data": {
      "text/plain": [
       "array([ 71625.29995414, 185576.2054675 ,  16293.36125663, ...,\n",
       "       118887.90367737,  59090.0964403 , 157017.83206255])"
      ]
     },
     "execution_count": 153,
     "metadata": {},
     "output_type": "execute_result"
    }
   ],
   "source": [
    "# Getting absolute values\n",
    "y_sub30 = abs(y_sub30)\n",
    "y_sub30"
   ]
  },
  {
   "cell_type": "code",
   "execution_count": 154,
   "metadata": {},
   "outputs": [],
   "source": [
    "# Prepare for submission\n",
    "sub30 = submission\n",
    "sub30['price'] = y_sub30\n",
    "sub30 = sub30['price'] \n",
    "sub30.to_csv('../cars-competition/data/sub30_ln_bsf_2.csv', header=True, index=True)"
   ]
  },
  {
   "cell_type": "code",
   "execution_count": null,
   "metadata": {},
   "outputs": [],
   "source": []
  }
 ],
 "metadata": {
  "kernelspec": {
   "display_name": "Python 3",
   "language": "python",
   "name": "python3"
  },
  "language_info": {
   "codemirror_mode": {
    "name": "ipython",
    "version": 3
   },
   "file_extension": ".py",
   "mimetype": "text/x-python",
   "name": "python",
   "nbconvert_exporter": "python",
   "pygments_lexer": "ipython3",
   "version": "3.7.4"
  }
 },
 "nbformat": 4,
 "nbformat_minor": 4
}
