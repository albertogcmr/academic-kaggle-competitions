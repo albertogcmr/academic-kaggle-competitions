{
 "cells": [
  {
   "cell_type": "code",
   "execution_count": 1,
   "metadata": {},
   "outputs": [],
   "source": [
    "# importing libraries\n",
    "import pandas as pd"
   ]
  },
  {
   "cell_type": "code",
   "execution_count": 2,
   "metadata": {},
   "outputs": [
    {
     "data": {
      "text/html": [
       "<div>\n",
       "<style scoped>\n",
       "    .dataframe tbody tr th:only-of-type {\n",
       "        vertical-align: middle;\n",
       "    }\n",
       "\n",
       "    .dataframe tbody tr th {\n",
       "        vertical-align: top;\n",
       "    }\n",
       "\n",
       "    .dataframe thead th {\n",
       "        text-align: right;\n",
       "    }\n",
       "</style>\n",
       "<table border=\"1\" class=\"dataframe\">\n",
       "  <thead>\n",
       "    <tr style=\"text-align: right;\">\n",
       "      <th></th>\n",
       "      <th>city</th>\n",
       "      <th>year</th>\n",
       "      <th>manufacturer</th>\n",
       "      <th>make</th>\n",
       "      <th>condition</th>\n",
       "      <th>cylinders</th>\n",
       "      <th>fuel</th>\n",
       "      <th>odometer</th>\n",
       "      <th>title_status</th>\n",
       "      <th>transmission</th>\n",
       "      <th>...</th>\n",
       "      <th>type</th>\n",
       "      <th>paint_color</th>\n",
       "      <th>lat</th>\n",
       "      <th>long</th>\n",
       "      <th>county_fips</th>\n",
       "      <th>county_name</th>\n",
       "      <th>state_fips</th>\n",
       "      <th>state_code</th>\n",
       "      <th>state_name</th>\n",
       "      <th>weather</th>\n",
       "    </tr>\n",
       "    <tr>\n",
       "      <th>Id</th>\n",
       "      <th></th>\n",
       "      <th></th>\n",
       "      <th></th>\n",
       "      <th></th>\n",
       "      <th></th>\n",
       "      <th></th>\n",
       "      <th></th>\n",
       "      <th></th>\n",
       "      <th></th>\n",
       "      <th></th>\n",
       "      <th></th>\n",
       "      <th></th>\n",
       "      <th></th>\n",
       "      <th></th>\n",
       "      <th></th>\n",
       "      <th></th>\n",
       "      <th></th>\n",
       "      <th></th>\n",
       "      <th></th>\n",
       "      <th></th>\n",
       "      <th></th>\n",
       "    </tr>\n",
       "  </thead>\n",
       "  <tbody>\n",
       "    <tr>\n",
       "      <td>974298</td>\n",
       "      <td>duluth</td>\n",
       "      <td>2006.0</td>\n",
       "      <td>ford</td>\n",
       "      <td>f-250 super duty</td>\n",
       "      <td>good</td>\n",
       "      <td>8 cylinders</td>\n",
       "      <td>gas</td>\n",
       "      <td>154400.0</td>\n",
       "      <td>clean</td>\n",
       "      <td>automatic</td>\n",
       "      <td>...</td>\n",
       "      <td>pickup</td>\n",
       "      <td>white</td>\n",
       "      <td>47.746524</td>\n",
       "      <td>-90.357742</td>\n",
       "      <td>27031.0</td>\n",
       "      <td>Cook</td>\n",
       "      <td>27.0</td>\n",
       "      <td>MN</td>\n",
       "      <td>Minnesota</td>\n",
       "      <td>43.0</td>\n",
       "    </tr>\n",
       "    <tr>\n",
       "      <td>1051884</td>\n",
       "      <td>kansascity</td>\n",
       "      <td>1987.0</td>\n",
       "      <td>chevrolet</td>\n",
       "      <td>NaN</td>\n",
       "      <td>NaN</td>\n",
       "      <td>NaN</td>\n",
       "      <td>gas</td>\n",
       "      <td>NaN</td>\n",
       "      <td>clean</td>\n",
       "      <td>automatic</td>\n",
       "      <td>...</td>\n",
       "      <td>NaN</td>\n",
       "      <td>NaN</td>\n",
       "      <td>38.373182</td>\n",
       "      <td>-93.776859</td>\n",
       "      <td>29083.0</td>\n",
       "      <td>Henry/Rives</td>\n",
       "      <td>29.0</td>\n",
       "      <td>MO</td>\n",
       "      <td>Missouri</td>\n",
       "      <td>52.0</td>\n",
       "    </tr>\n",
       "    <tr>\n",
       "      <td>684464</td>\n",
       "      <td>palmsprings</td>\n",
       "      <td>2010.0</td>\n",
       "      <td>jeep</td>\n",
       "      <td>liberty sport</td>\n",
       "      <td>NaN</td>\n",
       "      <td>6 cylinders</td>\n",
       "      <td>gas</td>\n",
       "      <td>127722.0</td>\n",
       "      <td>clean</td>\n",
       "      <td>automatic</td>\n",
       "      <td>...</td>\n",
       "      <td>SUV</td>\n",
       "      <td>NaN</td>\n",
       "      <td>33.741059</td>\n",
       "      <td>-116.356434</td>\n",
       "      <td>6065.0</td>\n",
       "      <td>Riverside</td>\n",
       "      <td>6.0</td>\n",
       "      <td>CA</td>\n",
       "      <td>California</td>\n",
       "      <td>59.0</td>\n",
       "    </tr>\n",
       "    <tr>\n",
       "      <td>1255387</td>\n",
       "      <td>sanmarcos</td>\n",
       "      <td>2003.0</td>\n",
       "      <td>chevrolet</td>\n",
       "      <td>tahoe</td>\n",
       "      <td>fair</td>\n",
       "      <td>8 cylinders</td>\n",
       "      <td>gas</td>\n",
       "      <td>NaN</td>\n",
       "      <td>clean</td>\n",
       "      <td>automatic</td>\n",
       "      <td>...</td>\n",
       "      <td>SUV</td>\n",
       "      <td>white</td>\n",
       "      <td>30.026266</td>\n",
       "      <td>-98.133363</td>\n",
       "      <td>48209.0</td>\n",
       "      <td>Hays</td>\n",
       "      <td>48.0</td>\n",
       "      <td>TX</td>\n",
       "      <td>Texas</td>\n",
       "      <td>67.0</td>\n",
       "    </tr>\n",
       "    <tr>\n",
       "      <td>1195520</td>\n",
       "      <td>tampa</td>\n",
       "      <td>2006.0</td>\n",
       "      <td>lexus</td>\n",
       "      <td>gs 300</td>\n",
       "      <td>NaN</td>\n",
       "      <td>NaN</td>\n",
       "      <td>gas</td>\n",
       "      <td>NaN</td>\n",
       "      <td>clean</td>\n",
       "      <td>automatic</td>\n",
       "      <td>...</td>\n",
       "      <td>NaN</td>\n",
       "      <td>NaN</td>\n",
       "      <td>27.868800</td>\n",
       "      <td>-82.734400</td>\n",
       "      <td>12103.0</td>\n",
       "      <td>Pinellas</td>\n",
       "      <td>12.0</td>\n",
       "      <td>FL</td>\n",
       "      <td>Florida</td>\n",
       "      <td>65.0</td>\n",
       "    </tr>\n",
       "  </tbody>\n",
       "</table>\n",
       "<p>5 rows × 22 columns</p>\n",
       "</div>"
      ],
      "text/plain": [
       "                city    year manufacturer              make condition  \\\n",
       "Id                                                                      \n",
       "974298        duluth  2006.0         ford  f-250 super duty      good   \n",
       "1051884   kansascity  1987.0    chevrolet               NaN       NaN   \n",
       "684464   palmsprings  2010.0         jeep     liberty sport       NaN   \n",
       "1255387    sanmarcos  2003.0    chevrolet             tahoe      fair   \n",
       "1195520        tampa  2006.0        lexus            gs 300       NaN   \n",
       "\n",
       "           cylinders fuel  odometer title_status transmission  ...    type  \\\n",
       "Id                                                             ...           \n",
       "974298   8 cylinders  gas  154400.0        clean    automatic  ...  pickup   \n",
       "1051884          NaN  gas       NaN        clean    automatic  ...     NaN   \n",
       "684464   6 cylinders  gas  127722.0        clean    automatic  ...     SUV   \n",
       "1255387  8 cylinders  gas       NaN        clean    automatic  ...     SUV   \n",
       "1195520          NaN  gas       NaN        clean    automatic  ...     NaN   \n",
       "\n",
       "        paint_color        lat        long  county_fips  county_name  \\\n",
       "Id                                                                     \n",
       "974298        white  47.746524  -90.357742      27031.0         Cook   \n",
       "1051884         NaN  38.373182  -93.776859      29083.0  Henry/Rives   \n",
       "684464          NaN  33.741059 -116.356434       6065.0    Riverside   \n",
       "1255387       white  30.026266  -98.133363      48209.0         Hays   \n",
       "1195520         NaN  27.868800  -82.734400      12103.0     Pinellas   \n",
       "\n",
       "         state_fips state_code  state_name weather  \n",
       "Id                                                  \n",
       "974298         27.0         MN   Minnesota    43.0  \n",
       "1051884        29.0         MO    Missouri    52.0  \n",
       "684464          6.0         CA  California    59.0  \n",
       "1255387        48.0         TX       Texas    67.0  \n",
       "1195520        12.0         FL     Florida    65.0  \n",
       "\n",
       "[5 rows x 22 columns]"
      ]
     },
     "execution_count": 2,
     "metadata": {},
     "output_type": "execute_result"
    }
   ],
   "source": [
    "# Analize submission data\n",
    "# This is the data we will eventually predict prices for, therefore we will analize it to see the final conditions our model will find.\n",
    "submission = pd.read_csv('../cars-competition/data/cars_test.csv', index_col='Id')\n",
    "submission.head()"
   ]
  },
  {
   "cell_type": "code",
   "execution_count": 3,
   "metadata": {},
   "outputs": [
    {
     "name": "stdout",
     "output_type": "stream",
     "text": [
      "(253073, 22)\n",
      "city                 0\n",
      "year               911\n",
      "manufacturer     20048\n",
      "make             10112\n",
      "condition       102695\n",
      "cylinders       101146\n",
      "fuel              1583\n",
      "odometer         83110\n",
      "title_status       373\n",
      "transmission      1350\n",
      "drive            96866\n",
      "size            164839\n",
      "type            103023\n",
      "paint_color     101787\n",
      "lat                  0\n",
      "long                 0\n",
      "county_fips       8632\n",
      "county_name       8632\n",
      "state_fips        8632\n",
      "state_code        8632\n",
      "state_name           0\n",
      "weather           8716\n",
      "dtype: int64\n"
     ]
    }
   ],
   "source": [
    "# Checking for Null values\n",
    "print(submission.shape)\n",
    "print(submission.isnull().sum())"
   ]
  },
  {
   "cell_type": "code",
   "execution_count": 4,
   "metadata": {},
   "outputs": [
    {
     "name": "stdout",
     "output_type": "stream",
     "text": [
      "city             0.000000\n",
      "year             0.359975\n",
      "manufacturer     7.921825\n",
      "make             3.995685\n",
      "condition       40.579200\n",
      "cylinders       39.967124\n",
      "fuel             0.625511\n",
      "odometer        32.840327\n",
      "title_status     0.147388\n",
      "transmission     0.533443\n",
      "drive           38.275912\n",
      "size            65.134961\n",
      "type            40.708807\n",
      "paint_color     40.220411\n",
      "lat              0.000000\n",
      "long             0.000000\n",
      "county_fips      3.410874\n",
      "county_name      3.410874\n",
      "state_fips       3.410874\n",
      "state_code       3.410874\n",
      "state_name       0.000000\n",
      "weather          3.444066\n",
      "dtype: float64\n"
     ]
    }
   ],
   "source": [
    "# Percentage of null values\n",
    "print(100*submission.isnull().sum()/submission.shape[0])"
   ]
  },
  {
   "cell_type": "code",
   "execution_count": 5,
   "metadata": {},
   "outputs": [],
   "source": [
    "# Quite a few relevant values have many null values: condition, cylinders, odometer, drive, size, type\n",
    "# We will have to try to find a way around it."
   ]
  },
  {
   "cell_type": "code",
   "execution_count": 6,
   "metadata": {},
   "outputs": [],
   "source": [
    "# Cylinders\n",
    "# Electric cars will have null values, will set those to zero.\n",
    "# Change nulls to other\n",
    "submission['cylinders'] = submission['cylinders'].str.replace(' cylinders', '')\n",
    "\n",
    "null_cylinders = submission[submission['cylinders'].isnull()]\n",
    "for index, car in null_cylinders.iterrows():\n",
    "    if car['fuel'] == 'electric':\n",
    "        submission.at[index,'cylinders'] = 0\n",
    "    else:\n",
    "        submission.at[index,'cylinders'] = 'other'"
   ]
  },
  {
   "cell_type": "code",
   "execution_count": 7,
   "metadata": {},
   "outputs": [
    {
     "data": {
      "text/plain": [
       "0"
      ]
     },
     "execution_count": 7,
     "metadata": {},
     "output_type": "execute_result"
    }
   ],
   "source": [
    "submission['cylinders'].isnull().sum()"
   ]
  },
  {
   "cell_type": "code",
   "execution_count": 8,
   "metadata": {},
   "outputs": [
    {
     "data": {
      "text/plain": [
       "0"
      ]
     },
     "execution_count": 8,
     "metadata": {},
     "output_type": "execute_result"
    }
   ],
   "source": [
    "not_null_cylinders = submission[submission['cylinders'] != 'other']['cylinders']\n",
    "not_null_cylinders.isnull().sum()"
   ]
  },
  {
   "cell_type": "code",
   "execution_count": 9,
   "metadata": {},
   "outputs": [
    {
     "data": {
      "text/plain": [
       "(6.060791638597995, 6.0)"
      ]
     },
     "execution_count": 9,
     "metadata": {},
     "output_type": "execute_result"
    }
   ],
   "source": [
    "# Check mean and median of cylinders\n",
    "# Change to numeric\n",
    "not_null_cylinders = not_null_cylinders.apply(int)\n",
    "mean = not_null_cylinders.mean()\n",
    "median = not_null_cylinders.median()\n",
    "mean, median"
   ]
  },
  {
   "cell_type": "code",
   "execution_count": 10,
   "metadata": {},
   "outputs": [
    {
     "name": "stderr",
     "output_type": "stream",
     "text": [
      "/home/felipe/miniconda3/envs/lab/lib/python3.7/site-packages/ipykernel_launcher.py:2: SettingWithCopyWarning: \n",
      "A value is trying to be set on a copy of a slice from a DataFrame\n",
      "\n",
      "See the caveats in the documentation: http://pandas.pydata.org/pandas-docs/stable/user_guide/indexing.html#returning-a-view-versus-a-copy\n",
      "  \n"
     ]
    },
    {
     "data": {
      "text/plain": [
       "6     159533\n",
       "8      47329\n",
       "4      43131\n",
       "5       1577\n",
       "10       894\n",
       "3        267\n",
       "0        226\n",
       "12       116\n",
       "Name: cylinders, dtype: int64"
      ]
     },
     "execution_count": 10,
     "metadata": {},
     "output_type": "execute_result"
    }
   ],
   "source": [
    "# Change 'other' for median\n",
    "submission['cylinders'][submission['cylinders']=='other'] = median\n",
    "submission['cylinders'] = submission['cylinders'].astype('int64')\n",
    "submission['cylinders'].value_counts()"
   ]
  },
  {
   "cell_type": "code",
   "execution_count": 11,
   "metadata": {},
   "outputs": [
    {
     "name": "stderr",
     "output_type": "stream",
     "text": [
      "/home/felipe/miniconda3/envs/lab/lib/python3.7/site-packages/ipykernel_launcher.py:3: SettingWithCopyWarning: \n",
      "A value is trying to be set on a copy of a slice from a DataFrame\n",
      "\n",
      "See the caveats in the documentation: http://pandas.pydata.org/pandas-docs/stable/user_guide/indexing.html#returning-a-view-versus-a-copy\n",
      "  This is separate from the ipykernel package so we can avoid doing imports until\n"
     ]
    },
    {
     "data": {
      "text/plain": [
       "unknown      102695\n",
       "excellent     64990\n",
       "good          55911\n",
       "like new      16342\n",
       "fair          10935\n",
       "new            1301\n",
       "salvage         899\n",
       "Name: condition, dtype: int64"
      ]
     },
     "metadata": {},
     "output_type": "display_data"
    },
    {
     "data": {
      "text/plain": [
       "0"
      ]
     },
     "metadata": {},
     "output_type": "display_data"
    }
   ],
   "source": [
    "# Condition\n",
    "# Will change to numeric and convert nulls to central number\n",
    "submission['condition'][submission['condition'].isnull()] = 'unknown'\n",
    "display(submission['condition'].value_counts())\n",
    "display(submission['condition'].isnull().sum())"
   ]
  },
  {
   "cell_type": "code",
   "execution_count": 12,
   "metadata": {},
   "outputs": [],
   "source": [
    "condition = {'unknown':0,'fair':0,'good':1,'excellent':2,'like new':2,'new':2,'salvage':-1}\n",
    "submission['condition']=submission['condition'].apply(lambda x: condition.get(x,0))"
   ]
  },
  {
   "cell_type": "code",
   "execution_count": 13,
   "metadata": {},
   "outputs": [
    {
     "data": {
      "text/plain": [
       " 0    113630\n",
       " 2     82633\n",
       " 1     55911\n",
       "-1       899\n",
       "Name: condition, dtype: int64"
      ]
     },
     "execution_count": 13,
     "metadata": {},
     "output_type": "execute_result"
    }
   ],
   "source": [
    "submission['condition'].value_counts()"
   ]
  },
  {
   "cell_type": "code",
   "execution_count": 14,
   "metadata": {},
   "outputs": [
    {
     "data": {
      "text/plain": [
       "2007.0    16041\n",
       "2008.0    15064\n",
       "2006.0    14754\n",
       "2015.0    13895\n",
       "2005.0    13362\n",
       "          ...  \n",
       "1913.0        1\n",
       "1906.0        1\n",
       "1740.0        1\n",
       "302.0         1\n",
       "1553.0        1\n",
       "Name: year, Length: 112, dtype: int64"
      ]
     },
     "metadata": {},
     "output_type": "display_data"
    },
    {
     "data": {
      "text/plain": [
       "911"
      ]
     },
     "metadata": {},
     "output_type": "display_data"
    },
    {
     "name": "stdout",
     "output_type": "stream",
     "text": [
      "2004.795575859963 2007.0 0    2007.0\n",
      "dtype: float64\n"
     ]
    },
    {
     "name": "stderr",
     "output_type": "stream",
     "text": [
      "/home/felipe/miniconda3/envs/lab/lib/python3.7/site-packages/ipykernel_launcher.py:14: SettingWithCopyWarning: \n",
      "A value is trying to be set on a copy of a slice from a DataFrame\n",
      "\n",
      "See the caveats in the documentation: http://pandas.pydata.org/pandas-docs/stable/user_guide/indexing.html#returning-a-view-versus-a-copy\n",
      "  \n"
     ]
    }
   ],
   "source": [
    "# Odometer\n",
    "# Will check mean and median by year\n",
    "\n",
    "# First, clean year.\n",
    "display(submission['year'].value_counts())\n",
    "display(submission['year'].isnull().sum())\n",
    "\n",
    "# Replace unknown and wrong years by average\n",
    "valid_year = submission['year'][((submission['year']>=1900) | (~submission['year'].isnull()))]\n",
    "year_avg = valid_year.mean()\n",
    "year_median = valid_year.median()\n",
    "year_mode = valid_year.mode()\n",
    "print(year_avg,year_median,year_mode)\n",
    "submission['year'][((submission['year']<1900) | (submission['year'].isnull()))] = year_avg"
   ]
  },
  {
   "cell_type": "code",
   "execution_count": 16,
   "metadata": {},
   "outputs": [],
   "source": [
    "# Replace Null odometer by mean of decade or absolute mean\n",
    "submission['decade'] = submission['year']//10\n",
    "null_odometer = submission[submission['odometer'].isnull()]\n",
    "odometer_by_decade_mean = submission[['decade','odometer']].groupby(by='decade').mean()\n",
    "odometer_by_decade_median = submission[['decade','odometer']].groupby(by='decade').median()\n",
    "odometer_mean = submission['odometer'].mean()\n",
    "\n",
    "for index, car in null_odometer.iterrows():\n",
    "    submission.at[index,'odometer'] = odometer_by_decade_mean.get(car['decade'],odometer_mean)"
   ]
  },
  {
   "cell_type": "code",
   "execution_count": 17,
   "metadata": {},
   "outputs": [
    {
     "data": {
      "text/plain": [
       "4wd    66050\n",
       "fwd    54350\n",
       "rwd    35807\n",
       "Name: drive, dtype: int64"
      ]
     },
     "metadata": {},
     "output_type": "display_data"
    },
    {
     "data": {
      "text/plain": [
       "96866"
      ]
     },
     "metadata": {},
     "output_type": "display_data"
    },
    {
     "name": "stderr",
     "output_type": "stream",
     "text": [
      "/home/felipe/miniconda3/envs/lab/lib/python3.7/site-packages/ipykernel_launcher.py:5: SettingWithCopyWarning: \n",
      "A value is trying to be set on a copy of a slice from a DataFrame\n",
      "\n",
      "See the caveats in the documentation: http://pandas.pydata.org/pandas-docs/stable/user_guide/indexing.html#returning-a-view-versus-a-copy\n",
      "  \"\"\"\n"
     ]
    }
   ],
   "source": [
    "# Drive\n",
    "# Replace unknown with fwd, as it is the most comon drive\n",
    "display(submission['drive'].value_counts())\n",
    "display(submission['drive'].isnull().sum())\n",
    "submission['drive'][submission['drive'].isnull()]='fwd'"
   ]
  },
  {
   "cell_type": "code",
   "execution_count": 73,
   "metadata": {},
   "outputs": [
    {
     "data": {
      "text/plain": [
       "full-size      191034\n",
       "compact         34289\n",
       "mid-size        25936\n",
       "sub-compact      1814\n",
       "Name: size, dtype: int64"
      ]
     },
     "execution_count": 73,
     "metadata": {},
     "output_type": "execute_result"
    }
   ],
   "source": [
    "# Size\n",
    "# Replace unknown with most common by cylinders\n",
    "null_size = submission[submission['size'].isnull()]\n",
    "size_by_cylinder = submission[['size','cylinders']].groupby(by='cylinders').agg(lambda x:x.value_counts().index[0])\n",
    "size_by_cylinder = {cyl:size for cyl,size in zip(size_by_cylinder.index,size_by_cylinder['size'])}\n",
    "for index, car in null_size.iterrows():\n",
    "    submission.at[index,'size'] = size_by_cylinder.get(car['cylinders'],'other')\n",
    "size = {'sub-compact':0,'compact':1,'mid-size':2,'full-size':3}\n",
    "submission['size'].value_counts()"
   ]
  },
  {
   "cell_type": "code",
   "execution_count": 58,
   "metadata": {},
   "outputs": [
    {
     "name": "stderr",
     "output_type": "stream",
     "text": [
      "/home/felipe/miniconda3/envs/lab/lib/python3.7/site-packages/ipykernel_launcher.py:7: SettingWithCopyWarning: \n",
      "A value is trying to be set on a copy of a slice from a DataFrame\n",
      "\n",
      "See the caveats in the documentation: http://pandas.pydata.org/pandas-docs/stable/user_guide/indexing.html#returning-a-view-versus-a-copy\n",
      "  import sys\n"
     ]
    }
   ],
   "source": [
    "# Manufacturer\n",
    "# Fix multiple values\n",
    "manufacturer = {'chevy':'chevrolet','chev':'chevrolet','vw':'volkswagen','mercedes':'mercedes-benz','mercedesbenz':'mercedes-benz','infinity':'infiniti','harley':'harley-davidson','alfa':'alfa-romeo','aston':'aston-martin','landrover':'land rover','rover':'land rover'}\n",
    "wrong_manufacturers = submission[submission['manufacturer'].isin(manufacturer.keys())]\n",
    "for index, car in wrong_manufacturers.iterrows():\n",
    "    submission.at[index,'manufacturer'] = manufacturer.get(car['manufacturer'],'unknown')\n",
    "# Replace null with unknown\n",
    "submission['manufacturer'][submission['manufacturer'].isnull()] = 'unknown'"
   ]
  },
  {
   "cell_type": "code",
   "execution_count": 63,
   "metadata": {},
   "outputs": [
    {
     "name": "stderr",
     "output_type": "stream",
     "text": [
      "/home/felipe/miniconda3/envs/lab/lib/python3.7/site-packages/ipykernel_launcher.py:3: SettingWithCopyWarning: \n",
      "A value is trying to be set on a copy of a slice from a DataFrame\n",
      "\n",
      "See the caveats in the documentation: http://pandas.pydata.org/pandas-docs/stable/user_guide/indexing.html#returning-a-view-versus-a-copy\n",
      "  This is separate from the ipykernel package so we can avoid doing imports until\n"
     ]
    },
    {
     "data": {
      "text/plain": [
       "gas         224804\n",
       "diesel       17870\n",
       "other         8505\n",
       "hybrid        1578\n",
       "electric       316\n",
       "Name: fuel, dtype: int64"
      ]
     },
     "execution_count": 63,
     "metadata": {},
     "output_type": "execute_result"
    }
   ],
   "source": [
    "# Fuel\n",
    "# Replace Null with 'other'\n",
    "submission['fuel'][submission['fuel'].isnull()]='other'\n",
    "submission['fuel'].value_counts()"
   ]
  },
  {
   "cell_type": "code",
   "execution_count": 67,
   "metadata": {},
   "outputs": [
    {
     "name": "stderr",
     "output_type": "stream",
     "text": [
      "/home/felipe/miniconda3/envs/lab/lib/python3.7/site-packages/ipykernel_launcher.py:2: SettingWithCopyWarning: \n",
      "A value is trying to be set on a copy of a slice from a DataFrame\n",
      "\n",
      "See the caveats in the documentation: http://pandas.pydata.org/pandas-docs/stable/user_guide/indexing.html#returning-a-view-versus-a-copy\n",
      "  \n"
     ]
    },
    {
     "data": {
      "text/plain": [
       "automatic    216458\n",
       "manual        29969\n",
       "other          6646\n",
       "Name: transmission, dtype: int64"
      ]
     },
     "execution_count": 67,
     "metadata": {},
     "output_type": "execute_result"
    }
   ],
   "source": [
    "# Transmission\n",
    "submission['transmission'][submission['transmission'].isnull()]='other'\n",
    "submission['transmission'].value_counts()"
   ]
  },
  {
   "cell_type": "code",
   "execution_count": 70,
   "metadata": {},
   "outputs": [
    {
     "name": "stderr",
     "output_type": "stream",
     "text": [
      "/home/felipe/miniconda3/envs/lab/lib/python3.7/site-packages/ipykernel_launcher.py:2: SettingWithCopyWarning: \n",
      "A value is trying to be set on a copy of a slice from a DataFrame\n",
      "\n",
      "See the caveats in the documentation: http://pandas.pydata.org/pandas-docs/stable/user_guide/indexing.html#returning-a-view-versus-a-copy\n",
      "  \n"
     ]
    },
    {
     "data": {
      "text/plain": [
       "clean         235668\n",
       "rebuilt         7156\n",
       "salvage         4639\n",
       "lien            3242\n",
       "missing         1622\n",
       "parts only       746\n",
       "Name: title_status, dtype: int64"
      ]
     },
     "execution_count": 70,
     "metadata": {},
     "output_type": "execute_result"
    }
   ],
   "source": [
    "# Title Status\n",
    "submission['title_status'][submission['title_status'].isnull()]='clean'\n",
    "submission['title_status'].value_counts()"
   ]
  },
  {
   "cell_type": "code",
   "execution_count": 71,
   "metadata": {},
   "outputs": [
    {
     "name": "stdout",
     "output_type": "stream",
     "text": [
      "city             0.000000\n",
      "year             0.000000\n",
      "manufacturer     0.000000\n",
      "make             3.995685\n",
      "condition        0.000000\n",
      "cylinders        0.000000\n",
      "fuel             0.000000\n",
      "odometer         0.000000\n",
      "title_status     0.000000\n",
      "transmission     0.000000\n",
      "drive            0.000000\n",
      "size             0.000000\n",
      "type            40.708807\n",
      "paint_color     40.220411\n",
      "lat              0.000000\n",
      "long             0.000000\n",
      "county_fips      3.410874\n",
      "county_name      3.410874\n",
      "state_fips       3.410874\n",
      "state_code       3.410874\n",
      "state_name       0.000000\n",
      "weather          3.444066\n",
      "decade           0.000000\n",
      "dtype: float64\n"
     ]
    }
   ],
   "source": [
    "print(100*submission.isnull().sum()/submission.shape[0])"
   ]
  },
  {
   "cell_type": "code",
   "execution_count": 72,
   "metadata": {},
   "outputs": [
    {
     "data": {
      "text/plain": [
       "city             object\n",
       "year            float64\n",
       "manufacturer     object\n",
       "make             object\n",
       "condition         int64\n",
       "cylinders         int64\n",
       "fuel             object\n",
       "odometer        float64\n",
       "title_status     object\n",
       "transmission     object\n",
       "drive            object\n",
       "size             object\n",
       "type             object\n",
       "paint_color      object\n",
       "lat             float64\n",
       "long            float64\n",
       "county_fips     float64\n",
       "county_name      object\n",
       "state_fips      float64\n",
       "state_code       object\n",
       "state_name       object\n",
       "weather         float64\n",
       "decade          float64\n",
       "dtype: object"
      ]
     },
     "execution_count": 72,
     "metadata": {},
     "output_type": "execute_result"
    }
   ],
   "source": [
    "submission.dtypes"
   ]
  }
 ],
 "metadata": {
  "kernelspec": {
   "display_name": "Python 3",
   "language": "python",
   "name": "python3"
  },
  "language_info": {
   "codemirror_mode": {
    "name": "ipython",
    "version": 3
   },
   "file_extension": ".py",
   "mimetype": "text/x-python",
   "name": "python",
   "nbconvert_exporter": "python",
   "pygments_lexer": "ipython3",
   "version": "3.7.3"
  }
 },
 "nbformat": 4,
 "nbformat_minor": 4
}
