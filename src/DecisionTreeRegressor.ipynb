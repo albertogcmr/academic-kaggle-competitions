{
 "cells": [
  {
   "cell_type": "code",
   "execution_count": 17,
   "metadata": {},
   "outputs": [],
   "source": [
    "import warnings\n",
    "warnings.filterwarnings('ignore')\n",
    "import pandas as pd\n",
    "from clean_data import clean_data, prepare_data\n",
    "from sklearn.decomposition import PCA\n",
    "from sklearn.model_selection import train_test_split\n",
    "from sklearn.tree import DecisionTreeRegressor\n",
    "from sklearn.metrics import mean_squared_error"
   ]
  },
  {
   "cell_type": "code",
   "execution_count": 2,
   "metadata": {},
   "outputs": [],
   "source": [
    "# Read files\n",
    "train = pd.read_csv('../cars-competition/data/cars_train.csv', index_col='Id')\n",
    "submission = pd.read_csv('../cars-competition/data/cars_test.csv', index_col='Id')"
   ]
  },
  {
   "cell_type": "code",
   "execution_count": 3,
   "metadata": {},
   "outputs": [
    {
     "name": "stdout",
     "output_type": "stream",
     "text": [
      "Cleaning cylinders...\n",
      "Cleaning condition...\n",
      "Cleaning odometer...\n",
      "Cleaning drive...\n",
      "Cleaning size...\n",
      "Cleaning manufacturer...\n",
      "Cleaning fuel...\n",
      "Cleaning transmission...\n",
      "Cleaning title status...\n",
      "Data cleaning complete!\n",
      "Cleaning cylinders...\n",
      "Cleaning condition...\n",
      "Cleaning odometer...\n",
      "Cleaning drive...\n",
      "Cleaning size...\n",
      "Cleaning manufacturer...\n",
      "Cleaning fuel...\n",
      "Cleaning transmission...\n",
      "Cleaning title status...\n",
      "Data cleaning complete!\n"
     ]
    }
   ],
   "source": [
    "# Clean Data\n",
    "train = clean_data(train)\n",
    "submission = clean_data(submission)"
   ]
  },
  {
   "cell_type": "code",
   "execution_count": 4,
   "metadata": {},
   "outputs": [],
   "source": [
    "# Prepare Data\n",
    "# columns = ['year','manufacturer','condition','cylinders','fuel','odometer','title_status','transmission','drive','size']\n",
    "columns = ['year','manufacturer','condition','cylinders','odometer','title_status','transmission','size']\n",
    "X, y = prepare_data(train,columns,typ='train')\n",
    "X_sub, _ = prepare_data(submission,columns,typ='test')"
   ]
  },
  {
   "cell_type": "code",
   "execution_count": 27,
   "metadata": {},
   "outputs": [],
   "source": [
    "# Feature reduction PCA\n",
    "# n_components = [5,10,15,20,25,30,35,40]\n",
    "n_components = [5,10,15,20]\n",
    "for n in n_components:\n",
    "    exec('pca{0} = PCA(n_components = {0})'.format(n))\n",
    "    exec('X_new{0} = pca{0}.fit_transform(X)'.format(n))"
   ]
  },
  {
   "cell_type": "code",
   "execution_count": 28,
   "metadata": {},
   "outputs": [],
   "source": [
    "# Split Train and Test\n",
    "\n",
    "for n in n_components:\n",
    "    exec('X_train{0}, X_test{0}, y_train{0}, y_test{0} = train_test_split(X_new{0},y,test_size=0.2,random_state=1)'.format(n))"
   ]
  },
  {
   "cell_type": "code",
   "execution_count": 29,
   "metadata": {},
   "outputs": [],
   "source": [
    "# DecisionTreeRegressor\n",
    "for n in n_components:\n",
    "    exec(\"dectree_reg{0} = DecisionTreeRegressor()\".format(n))\n",
    "    exec('dectree_reg{0}.fit(X_train{0},y_train{0})'.format(n))"
   ]
  },
  {
   "cell_type": "code",
   "execution_count": 30,
   "metadata": {},
   "outputs": [],
   "source": [
    "# Predict\n",
    "for n in n_components:\n",
    "    exec('y_pred{0} = dectree_reg{0}.predict(X_test{0})'.format(n))"
   ]
  },
  {
   "cell_type": "code",
   "execution_count": 31,
   "metadata": {},
   "outputs": [],
   "source": [
    "# Check error\n",
    "error = {}\n",
    "for n in n_components:\n",
    "    exec('error[{0}] = mean_squared_error(y_test{0}, y_pred{0})'.format(n))"
   ]
  },
  {
   "cell_type": "code",
   "execution_count": 32,
   "metadata": {},
   "outputs": [
    {
     "data": {
      "text/plain": [
       "{5: 172109854632549.6,\n",
       " 10: 185226114512712.44,\n",
       " 15: 163953821883707.53,\n",
       " 20: 176987288898988.34}"
      ]
     },
     "execution_count": 32,
     "metadata": {},
     "output_type": "execute_result"
    }
   ],
   "source": [
    "# Check for optimal feature number for PCA: 25\n",
    "error"
   ]
  },
  {
   "cell_type": "code",
   "execution_count": 33,
   "metadata": {},
   "outputs": [
    {
     "data": {
      "text/plain": [
       "array([ 7933.33333333,  2400.        ,  7870.        , ...,\n",
       "       20000.        ,  1912.25      ,  1900.        ])"
      ]
     },
     "execution_count": 33,
     "metadata": {},
     "output_type": "execute_result"
    }
   ],
   "source": [
    "# Try optimal DecisionTreeRegressor for submission\n",
    "# PCA\n",
    "X_sub20 = pca20.transform(X_sub)\n",
    "# Predict\n",
    "y_sub20 = dectree_reg20.predict(X_sub20)\n",
    "y_sub20"
   ]
  },
  {
   "cell_type": "code",
   "execution_count": 34,
   "metadata": {},
   "outputs": [
    {
     "ename": "NameError",
     "evalue": "name 'y_sub35' is not defined",
     "output_type": "error",
     "traceback": [
      "\u001b[0;31m---------------------------------------------------------------------------\u001b[0m",
      "\u001b[0;31mNameError\u001b[0m                                 Traceback (most recent call last)",
      "\u001b[0;32m<ipython-input-34-b623dfb706b7>\u001b[0m in \u001b[0;36m<module>\u001b[0;34m\u001b[0m\n\u001b[1;32m      1\u001b[0m \u001b[0;31m# Getting absolute values\u001b[0m\u001b[0;34m\u001b[0m\u001b[0;34m\u001b[0m\u001b[0;34m\u001b[0m\u001b[0m\n\u001b[0;32m----> 2\u001b[0;31m \u001b[0my_sub\u001b[0m \u001b[0;34m=\u001b[0m \u001b[0mabs\u001b[0m\u001b[0;34m(\u001b[0m\u001b[0my_sub35\u001b[0m\u001b[0;34m)\u001b[0m\u001b[0;34m\u001b[0m\u001b[0;34m\u001b[0m\u001b[0m\n\u001b[0m\u001b[1;32m      3\u001b[0m \u001b[0my_sub35\u001b[0m\u001b[0;34m\u001b[0m\u001b[0;34m\u001b[0m\u001b[0m\n",
      "\u001b[0;31mNameError\u001b[0m: name 'y_sub35' is not defined"
     ]
    }
   ],
   "source": [
    "# Getting absolute values\n",
    "y_sub = abs(y_sub35)\n",
    "y_sub35"
   ]
  },
  {
   "cell_type": "code",
   "execution_count": 35,
   "metadata": {},
   "outputs": [],
   "source": [
    "# Prepare for submission\n",
    "sub20 = submission\n",
    "sub20['price'] = y_sub20\n",
    "sub20 = sub20['price'] \n",
    "sub20.to_csv('../cars-competition/data/sub20_dectree.csv', header=True, index=True)"
   ]
  },
  {
   "cell_type": "code",
   "execution_count": null,
   "metadata": {},
   "outputs": [],
   "source": []
  }
 ],
 "metadata": {
  "kernelspec": {
   "display_name": "Python 3",
   "language": "python",
   "name": "python3"
  },
  "language_info": {
   "codemirror_mode": {
    "name": "ipython",
    "version": 3
   },
   "file_extension": ".py",
   "mimetype": "text/x-python",
   "name": "python",
   "nbconvert_exporter": "python",
   "pygments_lexer": "ipython3",
   "version": "3.7.4"
  }
 },
 "nbformat": 4,
 "nbformat_minor": 4
}
